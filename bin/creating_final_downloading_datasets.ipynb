{
 "cells": [
  {
   "cell_type": "code",
   "execution_count": 1,
   "metadata": {},
   "outputs": [
    {
     "name": "stderr",
     "output_type": "stream",
     "text": [
      "/isdata/winthergrp/zxv353/miniconda3/envs/deepenv/lib/python3.11/site-packages/tqdm/auto.py:22: TqdmWarning: IProgress not found. Please update jupyter and ipywidgets. See https://ipywidgets.readthedocs.io/en/stable/user_install.html\n",
      "  from .autonotebook import tqdm as notebook_tqdm\n"
     ]
    }
   ],
   "source": [
    "\n",
    "import torch\n",
    "import torch.nn as nn\n",
    "import torch.nn.functional as F\n",
    "from tqdm import tqdm\n",
    "import numpy as np\n",
    "import single_useful_functions as uf\n",
    "import pandas as pd\n",
    "import warnings\n",
    "from sklearn.metrics import  f1_score, accuracy_score"
   ]
  },
  {
   "cell_type": "markdown",
   "metadata": {},
   "source": [
    "create dataset fasta for publication"
   ]
  },
  {
   "cell_type": "markdown",
   "metadata": {},
   "source": [
    "full dataset"
   ]
  },
  {
   "cell_type": "code",
   "execution_count": 28,
   "metadata": {},
   "outputs": [],
   "source": [
    "import re\n",
    "locations = ['Cellwall', 'Extracellular', 'Cytoplasmic', 'CYtoplasmicMembrane', 'OuterMembrane', 'Periplasmic']\n",
    "\n",
    "# read the fasta file\n",
    "with open('./../data/fasta_graphpart_single_label.fasta', 'r') as f:\n",
    "    data = f.readlines()\n",
    "\n",
    "# loop through the data and modify the headers\n",
    "for i in range(len(data)):\n",
    "    if data[i].startswith('>'):\n",
    "        header = data[i].strip()\n",
    "        ID, rest = header.split(\"|\")\n",
    "        rest = rest.replace(\"label=\", \"\")\n",
    "        # Separate numbers and text\n",
    "        numbers = ''.join(filter(str.isdigit, rest))\n",
    "        kingdom = ''.join(filter(str.isalpha, rest))\n",
    "        index = numbers.find(\"1\")\n",
    "        new_location = locations[int(index)]\n",
    "        new_header = f\"{ID}|{new_location}|{kingdom}\"\n",
    "        data[i] = new_header + \"\\n\"\n",
    "    else:\n",
    "        data[i] = data[i].strip() + \"\\n\"\n",
    "\n",
    "with open('./../data/downloading_data/full_dataset.fasta', 'w') as f:\n",
    "    f.writelines(data)"
   ]
  },
  {
   "cell_type": "markdown",
   "metadata": {},
   "source": [
    "graphpart partition"
   ]
  },
  {
   "cell_type": "code",
   "execution_count": 54,
   "metadata": {},
   "outputs": [],
   "source": [
    "with open('./../data/final_fasta_single_after_graph_part.fasta', 'r') as f:\n",
    "    data = f.readlines()\n",
    "\n",
    "partition = pd.read_csv(\"./../data/single_graphpart.csv\")\n",
    "\n",
    "# loop through the data and modify the headers\n",
    "for i in range(len(data)):\n",
    "    if data[i].startswith('>'):\n",
    "        header = data[i].strip()\n",
    "        ID, rest = header.split(\"|\")\n",
    "        # print(ID[1:])\n",
    "        cluster = int(partition.loc[partition['AC'] == ID[1:], \"cluster\"].values)\n",
    "        rest = rest.replace(\"label=\", \"\")\n",
    "        # Separate numbers and text\n",
    "        numbers = ''.join(filter(str.isdigit, rest))\n",
    "        kingdom = ''.join(filter(str.isalpha, rest))\n",
    "        index = numbers.find(\"1\")\n",
    "        new_location = locations[int(index)]\n",
    "        new_header = f\"{ID}|{new_location}|{kingdom}|{cluster}\"\n",
    "        data[i] = new_header + \"\\n\"\n",
    "    else:\n",
    "        data[i] = data[i].strip() + \"\\n\"\n",
    "\n",
    "with open('./../data/downloading_data/graphpart_set.fasta', 'w') as f:\n",
    "    f.writelines(data)"
   ]
  },
  {
   "cell_type": "markdown",
   "metadata": {},
   "source": [
    "benchmarking set"
   ]
  },
  {
   "cell_type": "code",
   "execution_count": 75,
   "metadata": {},
   "outputs": [],
   "source": [
    "import pandas as pd\n",
    "\n",
    "with open('./../data/final_fasta_single_after_graph_part.fasta', 'r') as f:\n",
    "    data = f.readlines()\n",
    "\n",
    "date = pd.read_csv(f\"./../data/date_df.csv\", index_col=0)\n",
    "date['date'] = pd.to_datetime(date['date'])\n",
    "filter_date = pd.to_datetime(\"2010-01-01\")\n",
    "date_2010 = date[date[\"date\"] >= filter_date]\n",
    "\n",
    "benchmarking = list(date_2010.index)\n",
    "\n",
    "new_data = []  # new list to store the filtered data\n",
    "\n",
    "# loop through the data and modify the headers\n",
    "for i in range(0, len(data), 2):  # step by 2 because fasta file has 2 lines per record\n",
    "    if data[i].startswith('>'):\n",
    "        header = data[i].strip()\n",
    "        ID, rest = header.split(\"|\")\n",
    "        if ID[1:] in benchmarking:\n",
    "            # Separate numbers and text\n",
    "            rest = rest.replace(\"label=\", \"\")\n",
    "            # Separate numbers and text\n",
    "            numbers = ''.join(filter(str.isdigit, rest))\n",
    "            kingdom = ''.join(filter(str.isalpha, rest))\n",
    "            index = numbers.find(\"1\")\n",
    "            new_location = locations[int(index)]\n",
    "            new_header = f\"{ID}|{new_location}|{kingdom}\\n\"\n",
    "            sequence = data[i+1].strip() + \"\\n\"  # get the sequence line\n",
    "            new_data.append(new_header)\n",
    "            new_data.append(sequence)\n",
    "\n",
    "with open('./../data/downloading_data/benchmarking_dataset.fasta', 'w') as f:\n",
    "    f.writelines(new_data)"
   ]
  }
 ],
 "metadata": {
  "kernelspec": {
   "display_name": "deepenv",
   "language": "python",
   "name": "python3"
  },
  "language_info": {
   "codemirror_mode": {
    "name": "ipython",
    "version": 3
   },
   "file_extension": ".py",
   "mimetype": "text/x-python",
   "name": "python",
   "nbconvert_exporter": "python",
   "pygments_lexer": "ipython3",
   "version": "3.11.0"
  }
 },
 "nbformat": 4,
 "nbformat_minor": 2
}
