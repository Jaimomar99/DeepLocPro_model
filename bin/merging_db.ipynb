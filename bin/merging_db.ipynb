{
 "cells": [
  {
   "cell_type": "code",
   "execution_count": 1,
   "metadata": {
    "collapsed": false,
    "pycharm": {
     "name": "#%%\n"
    }
   },
   "outputs": [],
   "source": [
    "# data from felix repository\n",
    "positive = ['Firmicutes', 'Actinobacteria','Thermotogae','Chloroflexi','Saccharibacteria','Tenericutes']\n",
    "negative = ['Candidatus Taylorbacteria', 'Gemmatimonadetes', 'Candidatus Kryptonia', 'Candidatus Marinimicrobia',\n",
    "            'Chloroflexi', 'Candidatus Fraserbacteria', 'Rhodothermaeota', 'Candidatus Coatesbacteria', 'Candidatus Giovannonibacteria',\n",
    "            'Candidatus Abawacabacteria', 'Candidatus Sumerlaeota', 'Candidatus Peregrinibacteria', 'Candidatus Ryanbacteria',\n",
    "            'Candidatus Riflebacteria', 'Candidatus Cryosericota', 'Proteobacteria', 'Balneolaeota', 'Deinococcus-Thermus', 'Nitrospinae',\n",
    "            'Candidatus Colwellbacteria', 'Chlorobi', 'Candidatus Goldbacteria', 'Kiritimatiellaeota', 'Candidatus Microgenomates',\n",
    "            'Candidatus Handelsmanbacteria', 'Candidatus Aureabacteria', 'Candidatus Cerribacteria', 'Candidatus Gracilibacteria',\n",
    "            'Candidatus Liptonbacteria', 'Fusobacteria', 'Candidatus Saccharibacteria', 'Candidatus Magasanikbacteria', 'Candidatus Shapirobacteria',\n",
    "            'Candidatus Doudnabacteria', 'Candidatus Andersenbacteria', 'Calditrichaeota', 'Candidatus Curtissbacteria', 'Candidatus Yanofskybacteria',\n",
    "            'Cyanobacteria', 'Candidatus Wirthbacteria', 'Firmicutes', 'Candidatus Eisenbacteria', 'candidate division CPR1', 'Armatimonadetes',\n",
    "            'Candidatus Firestonebacteria', 'Candidatus Terrybacteria', 'Candidatus Zambryskibacteria', 'Candidatus Kuenenbacteria',\n",
    "            'Candidatus Campbellbacteria', 'Candidatus Beckwithbacteria', 'Candidatus Raymondbacteria', 'Candidatus Nealsonbacteria',\n",
    "            'Candidatus Brennerbacteria', 'Caldiserica', 'Candidatus Vogelbacteria', 'Candidatus Margulisbacteria', 'Candidatus Dormibacteraeota',\n",
    "            'Candidatus Uhrbacteria', 'Candidatus Poribacteria', 'Candidatus Kapabacteria', 'Candidatus Kaiserbacteria', 'Candidatus Komeilibacteria',\n",
    "            'Candidatus Desantisbacteria', 'Candidatus Adlerbacteria', 'Candidatus Parcubacteria', 'Candidatus Nomurabacteria', 'Candidatus Spechtbacteria',\n",
    "            'Candidatus Fervidibacteria', 'candidate division CPR3', 'Candidatus Chisholmbacteria', 'Actinobacteria', 'Candidatus Kerfeldbacteria',\n",
    "            'Candidatus Wallbacteria', 'Coprothermobacterota', 'candidate division Zixibacteria', 'Candidatus Fermentibacteria', 'Candidatus Veblenbacteria',\n",
    "            'candidate division LCP-89', 'Candidatus Omnitrophica', 'Acidobacteria', 'Candidatus Dadabacteria', 'Candidatus Azambacteria',\n",
    "            'Candidatus Cloacimonetes', 'Candidatus Daviesbacteria', 'Verrucomicrobia', 'Chlamydiae', 'Candidatus Harrisonbacteria',\n",
    "            'candidate division KD3-62', 'candidate division WOR-3', 'candidate division CPR2', 'Candidatus Woesebacteria', 'Candidatus Jacksonbacteria',\n",
    "            'Candidatus Tagabacteria', 'Candidatus Aerophobetes', 'Candidatus Lloydbacteria', 'Candidatus Lindowbacteria', 'Aquificae', 'Spirochaetes',\n",
    "            'candidate division JL-ETNP-Z39', 'candidate division GAL15', 'Candidatus Calescamantes', 'Candidatus Sungbacteria', 'candidate division WWE3',\n",
    "            'Candidatus Collierbacteria', 'candidate division FCPU426', 'Candidatus Wolfebacteria', 'Candidatus Portnoybacteria', 'Candidatus Blackburnbacteria',\n",
    "            'Candidatus Wildermuthbacteria', 'Candidatus Fischerbacteria', 'Candidatus Rokubacteria', 'candidate division NC10', 'Candidatus Schekmanbacteria',\n",
    "            'Lentisphaerae', 'Candidatus Aminicenantes', 'Thermodesulfobacteria', 'Thermotogae', 'Candidatus Pyropristinus', 'Fibrobacteres',\n",
    "            'candidate division WPS-1', 'Candidatus Staskawiczbacteria', 'Candidatus Pacebacteria', 'Candidatus Gottesmanbacteria',\n",
    "            'Candidatus Abyssubacteria', 'Candidatus Tectomicrobia', 'Synergistetes', 'Candidatus Melainabacteria', 'Candidatus Falkowbacteria',\n",
    "            'Candidatus Glassbacteria', 'Nitrospirae', 'Candidatus Roizmanbacteria', 'Candidatus Moranbacteria', 'Deferribacteres', 'Bacteroidetes',\n",
    "            'Candidatus Berkelbacteria', 'Candidatus Hydrogenedentes', 'Candidatus Eremiobacteraeota', 'Candidatus Amesbacteria',\n",
    "            'Candidatus Woykebacteria', 'Candidatus Yonathbacteria', 'Candidatus Atribacteria', 'Ignavibacteriae', 'Candidatus Edwardsbacteria',\n",
    "            'Candidatus Delongbacteria', 'Abditibacteriota', 'Candidatus Bipolaricaulota', 'Elusimicrobia', 'Dictyoglomi', 'Candidatus Hydrothermae',\n",
    "            'Candidatus Mcinerneyibacteriota', 'Candidatus Latescibacteria', 'Candidatus Buchananbacteria', 'Chrysiogenetes', 'Tenericutes',\n",
    "            'Candidatus Levybacteria', 'Candidatus Niyogibacteria', 'Planctomycetes', 'Candidatus Jorgensenbacteria', 'Krumholzibacteriota']\n",
    "archaea = ['Crenarchaeota', 'Nanoarchaeota', 'Candidatus Nezhaarchaeota', 'Candidatus Diapherotrites', 'Candidatus Geothermarchaeota',\n",
    "           'Candidatus Marsarchaeota', 'Candidatus Lokiarchaeota', 'Candidatus Woesearchaeota', 'Candidatus Micrarchaeota',\n",
    "           'Candidatus Aenigmarchaeota', 'Candidatus Bathyarchaeota', 'Candidatus Verstraetearchaeota', 'Candidatus Thorarchaeota',\n",
    "           'Candidatus Altiarchaeota', 'Candidatus Korarchaeota', 'Candidatus Helarchaeota', 'Candidatus Hydrothermarchaeota',\n",
    "           'Candidatus Heimdallarchaeota', 'Candidatus Huberarchaea', 'candidate phylum NAG2', 'Candidatus Geoarchaeota',\n",
    "           'Candidatus Parvarchaeota', 'Thaumarchaeota', 'Euryarchaeota', 'Candidatus Odinarchaeota']\n",
    "eukarya = ['Loricifera', 'Rotifera', 'Ctenophora', 'Nematomorpha', 'Priapulida', 'Apicomplexa', 'Acanthocephala',\n",
    "           'Bacillariophyta', 'Euglenozoa', 'Olpidiomycota', 'Picozoa', 'Rhodophyta', 'Platyhelminthes', 'Parabasalia',\n",
    "           'Haptista', 'Heterolobosea', 'Phoronida', 'Chytridiomycota', 'Evosea', 'Arthropoda', 'Nemertea', 'Imbricatea',\n",
    "           'Cryptomycota', 'Zoopagomycota', 'Mucoromycota', 'Chlorophyta', 'Fornicata', 'Kinorhyncha', 'Gnathostomulida',\n",
    "           'Annelida', 'Perkinsozoa', 'Endomyxa', 'Hemichordata', 'Ascomycota', 'Cercozoa', 'Basidiomycota', 'Microsporidia',\n",
    "           'Porifera', 'Hemimastigophora', 'Ciliophora', 'Cnidaria', 'Preaxostyla', 'Orthonectida', 'Nematoda', 'Tardigrada',\n",
    "           'Placozoa', 'Discosea', 'Xenacoelomorpha', 'Onychophora', 'Tubulinea', 'Echinodermata', 'Dicyemida', 'Chaetognatha',\n",
    "           'Foraminifera', 'Entoprocta', 'Gastrotricha', 'Streptophyta', 'Brachiopoda', 'Chordata', 'Cycliophora', 'Blastocladiomycota', 'Bryozoa', 'Mollusca',\n",
    "           'Nematoda (roundworms)']\n",
    "\n",
    "def get_kingdom(x: str):\n",
    "    if x in positive:\n",
    "        return 'POSITIVE'\n",
    "    elif x in negative:\n",
    "        return 'NEGATIVE'\n",
    "    elif x in archaea:\n",
    "        return 'ARCHAEA'\n",
    "    elif x in eukarya:\n",
    "        return 'EUKARYA'\n",
    "    else:\n",
    "        #print(f'drop {x}')\n",
    "        return 'UNKNOWN'"
   ]
  },
  {
   "cell_type": "markdown",
   "metadata": {
    "collapsed": true,
    "pycharm": {
     "name": "#%% md\n"
    }
   },
   "source": [
    "# merging uniprot and epsort"
   ]
  },
  {
   "cell_type": "code",
   "execution_count": 1,
   "metadata": {
    "collapsed": false,
    "pycharm": {
     "name": "#%%\n"
    }
   },
   "outputs": [],
   "source": [
    "import pandas as pd\n",
    "from collections import Counter"
   ]
  },
  {
   "cell_type": "code",
   "execution_count": 44,
   "metadata": {
    "collapsed": false,
    "pycharm": {
     "name": "#%%\n"
    }
   },
   "outputs": [],
   "source": [
    "uniprot = pd.read_csv(\"../data/Uniprot_filtered.csv\")\n",
    "psort = pd.read_csv(\"../data/PSORTdb_filtered.csv\")"
   ]
  },
  {
   "cell_type": "code",
   "execution_count": 46,
   "metadata": {},
   "outputs": [],
   "source": [
    "uniprot[\"Kingdom\"] = uniprot[\"Phylum\"].apply(lambda row: get_kingdom(row))\n",
    "psort[\"Kingdom\"] = psort[\"Phylum\"].apply(lambda row: get_kingdom(row))"
   ]
  },
  {
   "cell_type": "code",
   "execution_count": 47,
   "metadata": {},
   "outputs": [
    {
     "data": {
      "text/html": [
       "<div>\n",
       "<style scoped>\n",
       "    .dataframe tbody tr th:only-of-type {\n",
       "        vertical-align: middle;\n",
       "    }\n",
       "\n",
       "    .dataframe tbody tr th {\n",
       "        vertical-align: top;\n",
       "    }\n",
       "\n",
       "    .dataframe thead th {\n",
       "        text-align: right;\n",
       "    }\n",
       "</style>\n",
       "<table border=\"1\" class=\"dataframe\">\n",
       "  <thead>\n",
       "    <tr style=\"text-align: right;\">\n",
       "      <th></th>\n",
       "      <th>Entry</th>\n",
       "      <th>Organism</th>\n",
       "      <th>Sequence</th>\n",
       "      <th>Phylum</th>\n",
       "      <th>Cellwall</th>\n",
       "      <th>Extracellular</th>\n",
       "      <th>Cytoplasmic</th>\n",
       "      <th>CYtoplasmicMembrane</th>\n",
       "      <th>OuterMembrane</th>\n",
       "      <th>Periplasmic</th>\n",
       "      <th>Flagellar</th>\n",
       "      <th>Fimbrial</th>\n",
       "      <th>GasVesicle</th>\n",
       "      <th>S-layer</th>\n",
       "      <th>Dataset</th>\n",
       "      <th>Kingdom</th>\n",
       "    </tr>\n",
       "  </thead>\n",
       "  <tbody>\n",
       "    <tr>\n",
       "      <th>1090</th>\n",
       "      <td>Q9HKS9</td>\n",
       "      <td>Thermoplasma acidophilum</td>\n",
       "      <td>METYDVLVVGGGPGGSTAARYAAKYGLKTLMIEKRPEIGSPVRCGE...</td>\n",
       "      <td>Candidatus</td>\n",
       "      <td>0</td>\n",
       "      <td>0</td>\n",
       "      <td>0</td>\n",
       "      <td>1</td>\n",
       "      <td>0</td>\n",
       "      <td>0</td>\n",
       "      <td>0</td>\n",
       "      <td>0</td>\n",
       "      <td>0</td>\n",
       "      <td>0</td>\n",
       "      <td>Uniprot</td>\n",
       "      <td>UNKNOWN</td>\n",
       "    </tr>\n",
       "    <tr>\n",
       "      <th>1416</th>\n",
       "      <td>P0DV52</td>\n",
       "      <td>Unknown prokaryotic organism</td>\n",
       "      <td>MIKYLQSHLEEQGYLFVTLPKPDLAPLQLLTEYKGHLEEYDGSLLD...</td>\n",
       "      <td>NaN</td>\n",
       "      <td>0</td>\n",
       "      <td>0</td>\n",
       "      <td>1</td>\n",
       "      <td>0</td>\n",
       "      <td>0</td>\n",
       "      <td>0</td>\n",
       "      <td>0</td>\n",
       "      <td>0</td>\n",
       "      <td>0</td>\n",
       "      <td>0</td>\n",
       "      <td>Uniprot</td>\n",
       "      <td>UNKNOWN</td>\n",
       "    </tr>\n",
       "    <tr>\n",
       "      <th>2393</th>\n",
       "      <td>P85173</td>\n",
       "      <td>Unknown prokaryotic organism</td>\n",
       "      <td>DINGGGATLPQKLYLTPDVLTAGFAPYIGVGSGKGKIAFLENKYNQ...</td>\n",
       "      <td>NaN</td>\n",
       "      <td>0</td>\n",
       "      <td>1</td>\n",
       "      <td>0</td>\n",
       "      <td>0</td>\n",
       "      <td>0</td>\n",
       "      <td>0</td>\n",
       "      <td>0</td>\n",
       "      <td>0</td>\n",
       "      <td>0</td>\n",
       "      <td>0</td>\n",
       "      <td>Uniprot</td>\n",
       "      <td>UNKNOWN</td>\n",
       "    </tr>\n",
       "  </tbody>\n",
       "</table>\n",
       "</div>"
      ],
      "text/plain": [
       "       Entry                      Organism  \\\n",
       "1090  Q9HKS9     Thermoplasma acidophilum    \n",
       "1416  P0DV52  Unknown prokaryotic organism   \n",
       "2393  P85173  Unknown prokaryotic organism   \n",
       "\n",
       "                                               Sequence      Phylum  Cellwall  \\\n",
       "1090  METYDVLVVGGGPGGSTAARYAAKYGLKTLMIEKRPEIGSPVRCGE...  Candidatus         0   \n",
       "1416  MIKYLQSHLEEQGYLFVTLPKPDLAPLQLLTEYKGHLEEYDGSLLD...         NaN         0   \n",
       "2393  DINGGGATLPQKLYLTPDVLTAGFAPYIGVGSGKGKIAFLENKYNQ...         NaN         0   \n",
       "\n",
       "      Extracellular  Cytoplasmic  CYtoplasmicMembrane  OuterMembrane  \\\n",
       "1090              0            0                    1              0   \n",
       "1416              0            1                    0              0   \n",
       "2393              1            0                    0              0   \n",
       "\n",
       "      Periplasmic  Flagellar  Fimbrial  GasVesicle  S-layer  Dataset  Kingdom  \n",
       "1090            0          0         0           0        0  Uniprot  UNKNOWN  \n",
       "1416            0          0         0           0        0  Uniprot  UNKNOWN  \n",
       "2393            0          0         0           0        0  Uniprot  UNKNOWN  "
      ]
     },
     "execution_count": 47,
     "metadata": {},
     "output_type": "execute_result"
    }
   ],
   "source": [
    "uniprot[uniprot.Kingdom == \"UNKNOWN\"]"
   ]
  },
  {
   "cell_type": "code",
   "execution_count": 53,
   "metadata": {},
   "outputs": [
    {
     "name": "stderr",
     "output_type": "stream",
     "text": [
      "/tmp/ipykernel_14990/1360096481.py:2: SettingWithCopyWarning: \n",
      "A value is trying to be set on a copy of a slice from a DataFrame\n",
      "\n",
      "See the caveats in the documentation: https://pandas.pydata.org/pandas-docs/stable/user_guide/indexing.html#returning-a-view-versus-a-copy\n",
      "  uniprot.Kingdom[uniprot['Entry'] == 'Q9HKS9'] = \"ARCHAEA\"\n"
     ]
    }
   ],
   "source": [
    "#change one manually because is not recognized\n",
    "uniprot.Kingdom[uniprot['Entry'] == 'Q9HKS9'] = \"ARCHAEA\""
   ]
  },
  {
   "cell_type": "code",
   "execution_count": 54,
   "metadata": {},
   "outputs": [],
   "source": [
    "#filtering unknown IDs\n",
    "uniprot = uniprot[uniprot['Entry'] != 'P85173']\n",
    "uniprot = uniprot[uniprot['Entry'] != 'P0DV52']\n"
   ]
  },
  {
   "cell_type": "markdown",
   "metadata": {},
   "source": [
    "# fix some entries\n",
    "Some entries from psort doesnt have a phylum, but if we search the entry in Uniprot it appears, so let's download the data and replace.\n",
    "Go to uniprot, put the entry and then change the phylum and organism as we did in the previous project"
   ]
  },
  {
   "cell_type": "code",
   "execution_count": 56,
   "metadata": {},
   "outputs": [
    {
     "data": {
      "text/plain": [
       "(56, ['P49250', 'P18317', 'Q9EYY6', 'O50565', 'P42481'])"
      ]
     },
     "execution_count": 56,
     "metadata": {},
     "output_type": "execute_result"
    }
   ],
   "source": [
    "\n",
    "fails = list(psort[psort.Kingdom == \"UNKNOWN\"].Entry.values)\n",
    "len(fails), fails[:5]"
   ]
  },
  {
   "cell_type": "code",
   "execution_count": null,
   "metadata": {},
   "outputs": [],
   "source": [
    "for idx, entry in enumerate(fails): \n",
    "    link_fail= f\"https://rest.uniprot.org/uniprotkb/stream?fields=accession%2Corganism_name%2Csequence%2Ccc_subcellular_location%2Clineage&format=tsv&query=%28{entry}%20OR%20P49250%29\"\n",
    "    df_ = pd.read_csv(link_fail,sep=\"\\t\", names= [\"Entry\", \"Organism\", \"Sequence\", \"Experimental_Localization\", \"Phylum\"], header=0)\n",
    "\n",
    "    if idx == 0: \n",
    "        df_fails = df_.copy()\n",
    "        continue\n",
    "    df_fails = pd.concat([df_fails, df_], ignore_index=True)\n",
    "df_fails.drop_duplicates(subset=\"Entry\", keep= \"first\", inplace=True)\n",
    "df_fails.reset_index(inplace=True, drop=True)\n",
    "df_fails.head(2)"
   ]
  },
  {
   "cell_type": "code",
   "execution_count": 58,
   "metadata": {},
   "outputs": [],
   "source": [
    "def get_phylum(lineage):\n",
    "    levels = lineage.split(',')\n",
    "    for l in levels:\n",
    "        if '(phylum)' in l:\n",
    "            # print(l)\n",
    "            return l.strip().split(' ')[0]"
   ]
  },
  {
   "cell_type": "code",
   "execution_count": 59,
   "metadata": {},
   "outputs": [],
   "source": [
    "df_fails.Phylum = df_fails.Phylum.apply(lambda row: get_phylum(row))"
   ]
  },
  {
   "cell_type": "code",
   "execution_count": 60,
   "metadata": {},
   "outputs": [],
   "source": [
    "\n",
    "psort.loc[psort.Kingdom == \"UNKNOWN\", \"Organism\"] = df_fails.Organism.values.tolist()\n",
    "psort.loc[psort.Kingdom == \"UNKNOWN\", \"Phylum\"] = df_fails.Phylum.values.tolist()"
   ]
  },
  {
   "cell_type": "code",
   "execution_count": 61,
   "metadata": {},
   "outputs": [],
   "source": [
    "psort[\"Kingdom\"] = psort[\"Phylum\"].apply(lambda row: get_kingdom(row))"
   ]
  },
  {
   "cell_type": "code",
   "execution_count": 62,
   "metadata": {},
   "outputs": [
    {
     "data": {
      "text/html": [
       "<div>\n",
       "<style scoped>\n",
       "    .dataframe tbody tr th:only-of-type {\n",
       "        vertical-align: middle;\n",
       "    }\n",
       "\n",
       "    .dataframe tbody tr th {\n",
       "        vertical-align: top;\n",
       "    }\n",
       "\n",
       "    .dataframe thead th {\n",
       "        text-align: right;\n",
       "    }\n",
       "</style>\n",
       "<table border=\"1\" class=\"dataframe\">\n",
       "  <thead>\n",
       "    <tr style=\"text-align: right;\">\n",
       "      <th></th>\n",
       "      <th>Entry</th>\n",
       "      <th>Organism</th>\n",
       "      <th>Sequence</th>\n",
       "      <th>Phylum</th>\n",
       "      <th>Cellwall</th>\n",
       "      <th>Extracellular</th>\n",
       "      <th>Cytoplasmic</th>\n",
       "      <th>CYtoplasmicMembrane</th>\n",
       "      <th>OuterMembrane</th>\n",
       "      <th>Periplasmic</th>\n",
       "      <th>Flagellar</th>\n",
       "      <th>Fimbrial</th>\n",
       "      <th>GasVesicle</th>\n",
       "      <th>S-layer</th>\n",
       "      <th>Dataset</th>\n",
       "      <th>Kingdom</th>\n",
       "    </tr>\n",
       "  </thead>\n",
       "  <tbody>\n",
       "    <tr>\n",
       "      <th>8307</th>\n",
       "      <td>P33168</td>\n",
       "      <td>Deinonema sp</td>\n",
       "      <td>MAKGTFERTKPHVNVGTIGHVDHGKTTLTAAITFTAAASDPTIEKL...</td>\n",
       "      <td>None</td>\n",
       "      <td>0</td>\n",
       "      <td>0</td>\n",
       "      <td>1</td>\n",
       "      <td>0</td>\n",
       "      <td>0</td>\n",
       "      <td>0</td>\n",
       "      <td>0</td>\n",
       "      <td>0</td>\n",
       "      <td>0</td>\n",
       "      <td>0</td>\n",
       "      <td>ePsort</td>\n",
       "      <td>UNKNOWN</td>\n",
       "    </tr>\n",
       "    <tr>\n",
       "      <th>9547</th>\n",
       "      <td>O39976</td>\n",
       "      <td>GB virus C</td>\n",
       "      <td>FYGYGIPLERMRTGRHLVFCHSKAECERLAGQFSARGVNAIAYYRG...</td>\n",
       "      <td>Kitrinoviricota</td>\n",
       "      <td>0</td>\n",
       "      <td>1</td>\n",
       "      <td>0</td>\n",
       "      <td>0</td>\n",
       "      <td>0</td>\n",
       "      <td>0</td>\n",
       "      <td>0</td>\n",
       "      <td>0</td>\n",
       "      <td>0</td>\n",
       "      <td>0</td>\n",
       "      <td>ePsort</td>\n",
       "      <td>UNKNOWN</td>\n",
       "    </tr>\n",
       "  </tbody>\n",
       "</table>\n",
       "</div>"
      ],
      "text/plain": [
       "       Entry      Organism                                           Sequence  \\\n",
       "8307  P33168  Deinonema sp  MAKGTFERTKPHVNVGTIGHVDHGKTTLTAAITFTAAASDPTIEKL...   \n",
       "9547  O39976    GB virus C  FYGYGIPLERMRTGRHLVFCHSKAECERLAGQFSARGVNAIAYYRG...   \n",
       "\n",
       "               Phylum  Cellwall  Extracellular  Cytoplasmic  \\\n",
       "8307             None         0              0            1   \n",
       "9547  Kitrinoviricota         0              1            0   \n",
       "\n",
       "      CYtoplasmicMembrane  OuterMembrane  Periplasmic  Flagellar  Fimbrial  \\\n",
       "8307                    0              0            0          0         0   \n",
       "9547                    0              0            0          0         0   \n",
       "\n",
       "      GasVesicle  S-layer Dataset  Kingdom  \n",
       "8307           0        0  ePsort  UNKNOWN  \n",
       "9547           0        0  ePsort  UNKNOWN  "
      ]
     },
     "execution_count": 62,
     "metadata": {},
     "output_type": "execute_result"
    }
   ],
   "source": [
    "psort[psort.Kingdom == \"UNKNOWN\"]"
   ]
  },
  {
   "cell_type": "code",
   "execution_count": 63,
   "metadata": {},
   "outputs": [],
   "source": [
    "psort = psort[psort['Entry'] != 'P33168']\n",
    "psort = psort[psort['Entry'] != 'O39976']"
   ]
  },
  {
   "cell_type": "markdown",
   "metadata": {
    "collapsed": false,
    "pycharm": {
     "name": "#%% md\n"
    }
   },
   "source": [
    "## Join dataframes"
   ]
  },
  {
   "cell_type": "code",
   "execution_count": null,
   "metadata": {
    "collapsed": false,
    "pycharm": {
     "name": "#%%\n"
    }
   },
   "outputs": [],
   "source": [
    "dfs = [uniprot,psort]\n",
    "df = pd.concat(dfs)\n",
    "len(df)"
   ]
  },
  {
   "cell_type": "code",
   "execution_count": null,
   "metadata": {
    "collapsed": false,
    "pycharm": {
     "name": "#%%\n"
    }
   },
   "outputs": [],
   "source": [
    "#keep last since we are interest in uniprot more than psort\n",
    "df_final = df.drop_duplicates(subset = ['Entry'], keep = \"first\")\n",
    "df_final = df_final.drop_duplicates(subset = ['Sequence'], keep = \"first\")\n"
   ]
  },
  {
   "cell_type": "code",
   "execution_count": 71,
   "metadata": {
    "collapsed": false,
    "pycharm": {
     "name": "#%%\n"
    }
   },
   "outputs": [
    {
     "name": "stdout",
     "output_type": "stream",
     "text": [
      "1662    NEGATIVE\n",
      "Name: Kingdom, dtype: object\n",
      "834    NEGATIVE\n",
      "Name: Kingdom, dtype: object\n",
      "101    NEGATIVE\n",
      "Name: Kingdom, dtype: object\n",
      "1165    NEGATIVE\n",
      "Name: Kingdom, dtype: object\n",
      "24    NEGATIVE\n",
      "Name: Kingdom, dtype: object\n",
      "2978    NEGATIVE\n",
      "Name: Kingdom, dtype: object\n",
      "841    NEGATIVE\n",
      "Name: Kingdom, dtype: object\n",
      "1158    NEGATIVE\n",
      "Name: Kingdom, dtype: object\n"
     ]
    },
    {
     "name": "stderr",
     "output_type": "stream",
     "text": [
      "/tmp/ipykernel_14990/61611320.py:4: SettingWithCopyWarning: \n",
      "A value is trying to be set on a copy of a slice from a DataFrame\n",
      "\n",
      "See the caveats in the documentation: https://pandas.pydata.org/pandas-docs/stable/user_guide/indexing.html#returning-a-view-versus-a-copy\n",
      "  df_final['Kingdom'][df_final['Entry'] == e] = \"NEGATIVE\"\n",
      "/tmp/ipykernel_14990/61611320.py:4: SettingWithCopyWarning: \n",
      "A value is trying to be set on a copy of a slice from a DataFrame\n",
      "\n",
      "See the caveats in the documentation: https://pandas.pydata.org/pandas-docs/stable/user_guide/indexing.html#returning-a-view-versus-a-copy\n",
      "  df_final['Kingdom'][df_final['Entry'] == e] = \"NEGATIVE\"\n",
      "/tmp/ipykernel_14990/61611320.py:4: SettingWithCopyWarning: \n",
      "A value is trying to be set on a copy of a slice from a DataFrame\n",
      "\n",
      "See the caveats in the documentation: https://pandas.pydata.org/pandas-docs/stable/user_guide/indexing.html#returning-a-view-versus-a-copy\n",
      "  df_final['Kingdom'][df_final['Entry'] == e] = \"NEGATIVE\"\n",
      "/tmp/ipykernel_14990/61611320.py:4: SettingWithCopyWarning: \n",
      "A value is trying to be set on a copy of a slice from a DataFrame\n",
      "\n",
      "See the caveats in the documentation: https://pandas.pydata.org/pandas-docs/stable/user_guide/indexing.html#returning-a-view-versus-a-copy\n",
      "  df_final['Kingdom'][df_final['Entry'] == e] = \"NEGATIVE\"\n",
      "/tmp/ipykernel_14990/61611320.py:4: SettingWithCopyWarning: \n",
      "A value is trying to be set on a copy of a slice from a DataFrame\n",
      "\n",
      "See the caveats in the documentation: https://pandas.pydata.org/pandas-docs/stable/user_guide/indexing.html#returning-a-view-versus-a-copy\n",
      "  df_final['Kingdom'][df_final['Entry'] == e] = \"NEGATIVE\"\n",
      "/tmp/ipykernel_14990/61611320.py:4: SettingWithCopyWarning: \n",
      "A value is trying to be set on a copy of a slice from a DataFrame\n",
      "\n",
      "See the caveats in the documentation: https://pandas.pydata.org/pandas-docs/stable/user_guide/indexing.html#returning-a-view-versus-a-copy\n",
      "  df_final['Kingdom'][df_final['Entry'] == e] = \"NEGATIVE\"\n",
      "/tmp/ipykernel_14990/61611320.py:4: SettingWithCopyWarning: \n",
      "A value is trying to be set on a copy of a slice from a DataFrame\n",
      "\n",
      "See the caveats in the documentation: https://pandas.pydata.org/pandas-docs/stable/user_guide/indexing.html#returning-a-view-versus-a-copy\n",
      "  df_final['Kingdom'][df_final['Entry'] == e] = \"NEGATIVE\"\n",
      "/tmp/ipykernel_14990/61611320.py:4: SettingWithCopyWarning: \n",
      "A value is trying to be set on a copy of a slice from a DataFrame\n",
      "\n",
      "See the caveats in the documentation: https://pandas.pydata.org/pandas-docs/stable/user_guide/indexing.html#returning-a-view-versus-a-copy\n",
      "  df_final['Kingdom'][df_final['Entry'] == e] = \"NEGATIVE\"\n"
     ]
    }
   ],
   "source": [
    "#list to move from positive to negative for exceptions\n",
    "exceptions = ['P9WJ83', 'P9WJF1', 'O05442', 'A0R3I3', 'A5U493', 'P9WJ77', 'P9WKQ1', 'A0QPU4']\n",
    "for e in exceptions:\n",
    "    df_final['Kingdom'][df_final['Entry'] == e] = \"NEGATIVE\"\n",
    "    print(df_final['Kingdom'][df_final['Entry'] == e])"
   ]
  },
  {
   "cell_type": "code",
   "execution_count": 79,
   "metadata": {},
   "outputs": [
    {
     "data": {
      "text/html": [
       "<div>\n",
       "<style scoped>\n",
       "    .dataframe tbody tr th:only-of-type {\n",
       "        vertical-align: middle;\n",
       "    }\n",
       "\n",
       "    .dataframe tbody tr th {\n",
       "        vertical-align: top;\n",
       "    }\n",
       "\n",
       "    .dataframe thead th {\n",
       "        text-align: right;\n",
       "    }\n",
       "</style>\n",
       "<table border=\"1\" class=\"dataframe\">\n",
       "  <thead>\n",
       "    <tr style=\"text-align: right;\">\n",
       "      <th></th>\n",
       "      <th>Entry</th>\n",
       "      <th>Organism</th>\n",
       "      <th>Sequence</th>\n",
       "      <th>Phylum</th>\n",
       "      <th>Cellwall</th>\n",
       "      <th>Extracellular</th>\n",
       "      <th>Cytoplasmic</th>\n",
       "      <th>CYtoplasmicMembrane</th>\n",
       "      <th>OuterMembrane</th>\n",
       "      <th>Periplasmic</th>\n",
       "      <th>Flagellar</th>\n",
       "      <th>Fimbrial</th>\n",
       "      <th>GasVesicle</th>\n",
       "      <th>S-layer</th>\n",
       "      <th>Dataset</th>\n",
       "      <th>Kingdom</th>\n",
       "    </tr>\n",
       "  </thead>\n",
       "  <tbody>\n",
       "    <tr>\n",
       "      <th>2855</th>\n",
       "      <td>P84703</td>\n",
       "      <td>Rhizobium leguminosarum bv. viciae</td>\n",
       "      <td>ASILTNAS</td>\n",
       "      <td>Proteobacteria</td>\n",
       "      <td>0</td>\n",
       "      <td>1</td>\n",
       "      <td>0</td>\n",
       "      <td>0</td>\n",
       "      <td>0</td>\n",
       "      <td>0</td>\n",
       "      <td>0</td>\n",
       "      <td>0</td>\n",
       "      <td>0</td>\n",
       "      <td>0</td>\n",
       "      <td>Uniprot</td>\n",
       "      <td>NEGATIVE</td>\n",
       "    </tr>\n",
       "  </tbody>\n",
       "</table>\n",
       "</div>"
      ],
      "text/plain": [
       "       Entry                            Organism  Sequence          Phylum  \\\n",
       "2855  P84703  Rhizobium leguminosarum bv. viciae  ASILTNAS  Proteobacteria   \n",
       "\n",
       "      Cellwall  Extracellular  Cytoplasmic  CYtoplasmicMembrane  \\\n",
       "2855         0              1            0                    0   \n",
       "\n",
       "      OuterMembrane  Periplasmic  Flagellar  Fimbrial  GasVesicle  S-layer  \\\n",
       "2855              0            0          0         0           0        0   \n",
       "\n",
       "      Dataset   Kingdom  \n",
       "2855  Uniprot  NEGATIVE  "
      ]
     },
     "execution_count": 79,
     "metadata": {},
     "output_type": "execute_result"
    }
   ],
   "source": [
    "df_final[df_final.Sequence.str.len() < 9]"
   ]
  },
  {
   "cell_type": "code",
   "execution_count": 86,
   "metadata": {
    "collapsed": false,
    "pycharm": {
     "name": "#%%\n"
    }
   },
   "outputs": [],
   "source": [
    "df_final.to_csv(\"../data/final_dataset.csv\")"
   ]
  },
  {
   "cell_type": "code",
   "execution_count": 82,
   "metadata": {
    "collapsed": false,
    "pycharm": {
     "name": "#%%\n"
    }
   },
   "outputs": [
    {
     "data": {
      "text/html": [
       "<div>\n",
       "<style scoped>\n",
       "    .dataframe tbody tr th:only-of-type {\n",
       "        vertical-align: middle;\n",
       "    }\n",
       "\n",
       "    .dataframe tbody tr th {\n",
       "        vertical-align: top;\n",
       "    }\n",
       "\n",
       "    .dataframe thead th {\n",
       "        text-align: right;\n",
       "    }\n",
       "</style>\n",
       "<table border=\"1\" class=\"dataframe\">\n",
       "  <thead>\n",
       "    <tr style=\"text-align: right;\">\n",
       "      <th></th>\n",
       "      <th>Entry</th>\n",
       "      <th>Organism</th>\n",
       "      <th>Sequence</th>\n",
       "      <th>Phylum</th>\n",
       "      <th>Cellwall</th>\n",
       "      <th>Extracellular</th>\n",
       "      <th>Cytoplasmic</th>\n",
       "      <th>CYtoplasmicMembrane</th>\n",
       "      <th>OuterMembrane</th>\n",
       "      <th>Periplasmic</th>\n",
       "      <th>Flagellar</th>\n",
       "      <th>Fimbrial</th>\n",
       "      <th>GasVesicle</th>\n",
       "      <th>S-layer</th>\n",
       "      <th>Dataset</th>\n",
       "      <th>Kingdom</th>\n",
       "    </tr>\n",
       "  </thead>\n",
       "  <tbody>\n",
       "  </tbody>\n",
       "</table>\n",
       "</div>"
      ],
      "text/plain": [
       "Empty DataFrame\n",
       "Columns: [Entry, Organism, Sequence, Phylum, Cellwall, Extracellular, Cytoplasmic, CYtoplasmicMembrane, OuterMembrane, Periplasmic, Flagellar, Fimbrial, GasVesicle, S-layer, Dataset, Kingdom]\n",
       "Index: []"
      ]
     },
     "execution_count": 82,
     "metadata": {},
     "output_type": "execute_result"
    }
   ],
   "source": [
    "#check\n",
    "df_final[df_final['Kingdom'] == 'UNKNOWN']"
   ]
  },
  {
   "cell_type": "markdown",
   "metadata": {},
   "source": [
    "Remove these sequences whose sequences belong to a fragment"
   ]
  },
  {
   "cell_type": "code",
   "execution_count": 16,
   "metadata": {},
   "outputs": [],
   "source": [
    "df_f = pd.read_csv('https://rest.uniprot.org/idmapping/uniprotkb/results/stream/4a864db88f49b612402cf2256a3b6fbd45acad0e?fields=accession%2Creviewed%2Cid%2Cgene_names%2Cprotein_name%2Clength%2Corganism_name%2Cfragment&format=tsv', sep='\\t')\n",
    "fragments = df_f.loc[df_f['Fragment'] == 'fragment']['Entry']\n",
    "\n",
    "df = df.loc[~df['Entry'].isin(fragments.values)]"
   ]
  }
 ],
 "metadata": {
  "kernelspec": {
   "display_name": "deepenv",
   "language": "python",
   "name": "python3"
  },
  "language_info": {
   "codemirror_mode": {
    "name": "ipython",
    "version": 3
   },
   "file_extension": ".py",
   "mimetype": "text/x-python",
   "name": "python",
   "nbconvert_exporter": "python",
   "pygments_lexer": "ipython3",
   "version": "3.11.0"
  },
  "vscode": {
   "interpreter": {
    "hash": "f45b215e4333f211163bf0023f7396e82068f126693254ff1688f99f1078b182"
   }
  }
 },
 "nbformat": 4,
 "nbformat_minor": 0
}
