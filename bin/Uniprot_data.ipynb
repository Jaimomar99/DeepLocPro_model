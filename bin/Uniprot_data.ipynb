{
 "cells": [
  {
   "cell_type": "code",
   "execution_count": 2,
   "metadata": {
    "collapsed": true
   },
   "outputs": [],
   "source": [
    "import pandas as pd\n",
    "from collections import Counter\n",
    "import matplotlib.pyplot as plt\n",
    "import re"
   ]
  },
  {
   "cell_type": "markdown",
   "metadata": {},
   "source": [
    "# Uniprot filtering"
   ]
  },
  {
   "cell_type": "markdown",
   "metadata": {},
   "source": [
    "* *Filter*:\n",
    "\n",
    " ((taxonomy_id:2157) OR (taxonomy_id:2)) AND ((cc_scl_term:*) AND (ccev_scl_term:experimental))\n",
    "\n",
    "* *selecting columns*:\n",
    "\n",
    "  Entry(default), Organism, sequence and subcelullar location\n",
    "\n",
    "* *Searching theeposrtdb locations* : \n",
    "\n",
    "\n",
    "Cellwall, Extracellular, Cytoplasmic, CYtoplasmicMembrane, OuterMembrane, Periplasmic, Flagellar, Fimbrial, GasVesicle, S-layer\n",
    "\n",
    "* *API Uniprot* :\n",
    "\n",
    "https://rest.uniprot.org/uniprotkb/stream?fields=accession%2Corganism_name%2Csequence%2Ccc_subcellular_location%2Clineage&format=tsv&query=%28%28%28taxonomy_id%3A2157%29%20OR%20%28taxonomy_id%3A2%29%29%20AND%20%28%28cc_scl_term%3A%2A%29%20AND%20%28ccev_scl_term%3Aexperimental%29%29%29\n",
    "\n",
    "\"https://rest.uniprot.org/uniprotkb/stream?fields=accession%2Corganism_name%2Csequence%2Ccc_subcellular_location&format=tsv&query=%28%28%28taxonomy_id%3A2157%29%20OR%20%28taxonomy_id%3A2%29%29%20AND%20%28%28cc_scl_term%3A%2A%29%20AND%20%28ccev_scl_term%3Aexperimental%29%29%29\".\n",
    "\n"
   ]
  },
  {
   "cell_type": "code",
   "execution_count": 20,
   "metadata": {},
   "outputs": [],
   "source": [
    "# location = \"0306\"\n",
    "# link = f\"https://rest.uniprot.org/uniprotkb/stream?fields=accession%2Corganism_name%2Csequence%2Ccc_subcellular_location%2Clineage&format=tsv&query=%28%28%28taxonomy_id%3A2157%29%20OR%20%28taxonomy_id%3A2%29%29%20AND%20%28%28cc_scl_term%3ASL-{location}%29%20AND%20%28ccev_scl_term%3Aexperimental%29%29%29\"\n",
    "# pd.read_csv(link,sep=\"\\t\", names= [\"Entry\", \"Organism\", \"Sequence\", \"Experimental_Localization\", \"Phylum\"], header=0)\n",
    "# df.Experimental_Localization.str.split('SUBCELLULAR LOCATION:').str[1].str.split(\"{\").str[0].str.replace(r\"\\[(.*)\\]\", \"\").str.replace(\": \", \"\")"
   ]
  },
  {
   "cell_type": "code",
   "execution_count": 19,
   "metadata": {},
   "outputs": [],
   "source": [
    "# locations = [\"0041\", \"0243\", \"0086\", \"0039\", \"0200\", \"0307\", \"0113\",  \"0125\", \"0262\"]\n",
    "# for idx, location in enumerate(locations):\n",
    "#     link = f\"https://rest.uniprot.org/uniprotkb/stream?fields=accession%2Corganism_name%2Csequence%2Ccc_subcellular_location%2Clineage&format=tsv&query=%28%28%28taxonomy_id%3A2157%29%20OR%20%28taxonomy_id%3A2%29%29%20AND%20%28%28cc_scl_term%3ASL-{location}%29%20AND%20%28ccev_scl_term%3Aexperimental%29%29%29\"\n",
    "#     df_ = pd.read_csv(link,sep=\"\\t\", names= [\"Entry\", \"Organism\", \"Sequence\", \"Experimental_Localization\", \"Phylum\"], header=0)\n",
    "    \n",
    "#     if idx == 0: \n",
    "#         df = df_.copy()\n",
    "#         continue\n",
    "#     df = pd.concat([df, df_], ignore_index=True)\n",
    "# df.drop_duplicates(subset=\"Entry\", keep= \"first\", inplace=True)\n",
    "# df.head()"
   ]
  },
  {
   "cell_type": "code",
   "execution_count": 57,
   "metadata": {},
   "outputs": [],
   "source": [
    "link = \"https://rest.uniprot.org/uniprotkb/stream?fields=accession%2Corganism_name%2Csequence%2Ccc_subcellular_location%2Clineage&format=tsv&query=%28%28%28taxonomy_id%3A2%29%20OR%20%28taxonomy_id%3A2157%29%29%20AND%20%28%28cc_scl_term%3A%2A%29%20AND%20%28ccev_scl_term%3Aexperimental%29%29%29\"\n",
    "df = pd.read_csv(link,sep=\"\\t\", names= [\"Entry\", \"Organism\", \"Sequence\", \"Experimental_Localization\", \"Phylum\"], header=0)"
   ]
  },
  {
   "cell_type": "code",
   "execution_count": 58,
   "metadata": {},
   "outputs": [
    {
     "name": "stderr",
     "output_type": "stream",
     "text": [
      "/tmp/ipykernel_15452/741859732.py:1: FutureWarning: The default value of regex will change from True to False in a future version.\n",
      "  df.Experimental_Localization = df.Experimental_Localization.str.split('SUBCELLULAR LOCATION:').str[1].str.split(\"{\").str[0].str.replace(r\"\\[(.*)\\]\", \"\").str.replace(\": \", \"\")\n"
     ]
    }
   ],
   "source": [
    "df.Experimental_Localization = df.Experimental_Localization.str.split('SUBCELLULAR LOCATION:').str[1].str.split(\"{\").str[0].str.replace(r\"\\[(.*)\\]\", \"\").str.replace(\": \", \"\")"
   ]
  },
  {
   "cell_type": "code",
   "execution_count": null,
   "metadata": {},
   "outputs": [],
   "source": [
    "df.Experimental_Localization = df.Experimental_Localization.str.replace(\"cell wall\", \"Cellwall\")\n",
    "df.Experimental_Localization = df.Experimental_Localization.str.replace(\"Spore cortex\", \"Cellwall\")\n",
    "df.Experimental_Localization = df.Experimental_Localization.str.replace(\"Spore wall\", \"Cellwall\")\n",
    "df.Experimental_Localization = df.Experimental_Localization.str.replace(\"Secreted\", \"Extracellular\")\n",
    "df.Experimental_Localization = df.Experimental_Localization.str.replace(\"Host nucleus\", \"Extracellular\")\n",
    "df.Experimental_Localization = df.Experimental_Localization.str.replace(\"Host membrane\", \"Extracellular\")\n",
    "df.Experimental_Localization = df.Experimental_Localization.str.replace(\"Host endoplasmic reticulum\", \"Extracellular\") \n",
    "df.Experimental_Localization = df.Experimental_Localization.str.replace(\"Host cytoplasm, host perinuclear region\", \"Extracellular\")\n",
    "df.Experimental_Localization = df.Experimental_Localization.str.replace(\"Target cell, target cell cytoplasm\", \"Extracellular\")\n",
    "df.Experimental_Localization = df.Experimental_Localization.str.replace(\"Cytoplasm\", \"Cytoplasmic\")\n",
    "df.Experimental_Localization = df.Experimental_Localization.str.replace(\"Spore core\", \"Cytoplasmic\")\n",
    "df.Experimental_Localization = df.Experimental_Localization.str.replace(\"Cellular thylakoid lumen\", \"Cytoplasmic\")\n",
    "df.Experimental_Localization = df.Experimental_Localization.str.replace(\"Periplasm\", \"Periplasmic\")\n",
    "df.Experimental_Localization = df.Experimental_Localization.str.replace(\"Forespore intermembrane space\", \"Periplasmic\")\n",
    "df.Experimental_Localization = df.Experimental_Localization.str.replace(\"flagellum\", \"Flagellar\")\n",
    "df.Experimental_Localization = df.Experimental_Localization.str.replace(\"Fimbrium\", \"Fimbrial\")\n",
    "df.Experimental_Localization = df.Experimental_Localization.str.replace(\"Cell surface\", \"Cellwall\") \n",
    "df.Experimental_Localization = df.Experimental_Localization.str.replace(\"Forespore inner membrane\", \"CYtoplasmicMembrane\")\n",
    "df.Experimental_Localization = df.Experimental_Localization.str.replace(\"Cell inner membrane\", \"CYtoplasmicMembrane\")\n",
    "df.Experimental_Localization = df.Experimental_Localization.str.replace(\"Cellular thylakoid membrane\", \"CYtoplasmicMembrane\")\n",
    "df.Experimental_Localization = df.Experimental_Localization.str.replace(\"Cell membrane\", \"CYtoplasmicMembrane\")\n",
    "df.Experimental_Localization = df.Experimental_Localization.str.replace(\"Cell outer membrane\", \"OuterMembrane\")\n",
    "df.Experimental_Localization = df.Experimental_Localization.str.replace(\"Forespore outer membrane\", \"OuterMembrane\")\n",
    "df.Experimental_Localization = df.Experimental_Localization.str.replace(\"gas vesicle\", \"GasVesicle\")\n",
    "df.Experimental_Localization.unique()"
   ]
  },
  {
   "cell_type": "code",
   "execution_count": 60,
   "metadata": {},
   "outputs": [],
   "source": [
    "def mark_sublocation(df,location): \n",
    "    subdataset = df.loc[df.Experimental_Localization.str.contains(location)]\n",
    "    df.loc[subdataset.index, location] = 1\n",
    "    return df"
   ]
  },
  {
   "cell_type": "code",
   "execution_count": null,
   "metadata": {},
   "outputs": [],
   "source": [
    "locations = [ \"Cellwall\", 'Extracellular', \"Cytoplasmic\", \"CYtoplasmicMembrane\", \"OuterMembrane\", \"Periplasmic\", \"Flagellar\", \"Fimbrial\", \"GasVesicle\", \"S-layer\"]\n",
    "\n",
    "for location in locations: \n",
    "    df[location] = 0\n",
    "    df = mark_sublocation(df, location)\n",
    "\n",
    "df.head(2)"
   ]
  },
  {
   "cell_type": "code",
   "execution_count": 62,
   "metadata": {},
   "outputs": [],
   "source": [
    "def get_phylum(lineage):\n",
    "    levels = lineage.split(',')\n",
    "    for l in levels:\n",
    "        if '(phylum)' in l:\n",
    "            # print(l)\n",
    "            return l.strip().split(' ')[0]\n",
    "\n",
    "df.Phylum = df.Phylum.apply(lambda row: get_phylum(row))"
   ]
  },
  {
   "cell_type": "code",
   "execution_count": 64,
   "metadata": {},
   "outputs": [],
   "source": [
    "df.Organism = df.Organism.str.split(\"(\").str[0]\n",
    "df[\"Dataset\"] = \"Uniprot\""
   ]
  },
  {
   "cell_type": "code",
   "execution_count": null,
   "metadata": {},
   "outputs": [],
   "source": [
    "lost = df[df.iloc[:,5:-1].sum(axis=1) == 0]\n",
    "Counter(lost.Experimental_Localization)"
   ]
  },
  {
   "cell_type": "code",
   "execution_count": 87,
   "metadata": {},
   "outputs": [],
   "source": [
    "df.drop(lost.index, inplace=True)"
   ]
  },
  {
   "cell_type": "code",
   "execution_count": null,
   "metadata": {},
   "outputs": [],
   "source": [
    "df.drop(columns= \"Experimental_Localization\", inplace=True)\n",
    "df.reset_index(inplace=True, drop=True)\n",
    "\n",
    "df"
   ]
  },
  {
   "cell_type": "code",
   "execution_count": 90,
   "metadata": {},
   "outputs": [],
   "source": [
    "df.to_csv(\"../data/Uniprot_filtered.csv\", index=False)"
   ]
  }
 ],
 "metadata": {
  "kernelspec": {
   "display_name": "Python 3.9.7 ('base')",
   "language": "python",
   "name": "python3"
  },
  "language_info": {
   "codemirror_mode": {
    "name": "ipython",
    "version": 3
   },
   "file_extension": ".py",
   "mimetype": "text/x-python",
   "name": "python",
   "nbconvert_exporter": "python",
   "pygments_lexer": "ipython3",
   "version": "3.9.7"
  },
  "vscode": {
   "interpreter": {
    "hash": "c74c8d9cb671fcf817010da603c8bab17b18bca4f51886eb4fe8487a56e79998"
   }
  }
 },
 "nbformat": 4,
 "nbformat_minor": 0
}
